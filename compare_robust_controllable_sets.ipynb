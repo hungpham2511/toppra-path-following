{
 "cells": [
  {
   "cell_type": "markdown",
   "metadata": {
    "toc": true
   },
   "source": [
    "<h1>Table of Contents<span class=\"tocSkip\"></span></h1>\n",
    "<div class=\"toc\"><ul class=\"toc-item\"><li><span><a href=\"#Introduction\" data-toc-modified-id=\"Introduction-1\"><span class=\"toc-item-num\">1&nbsp;&nbsp;</span>Introduction</a></span></li><li><span><a href=\"#Prepare-the-coefficients\" data-toc-modified-id=\"Prepare-the-coefficients-2\"><span class=\"toc-item-num\">2&nbsp;&nbsp;</span>Prepare the coefficients</a></span></li><li><span><a href=\"#Compute-the-robust-controllable-sets\" data-toc-modified-id=\"Compute-the-robust-controllable-sets-3\"><span class=\"toc-item-num\">3&nbsp;&nbsp;</span>Compute the robust controllable sets</a></span></li></ul></div>"
   ]
  },
  {
   "cell_type": "markdown",
   "metadata": {},
   "source": [
    "# Introduction\n",
    "This script computes the robust controllable sets for a random\n",
    "geometric path. Several values of the bound on perturbations' norm are\n",
    "consider:\n",
    "\n",
    "1. R = 0, Ideal case.\n",
    "2. R = 1, Medium uncertainty.\n",
    "3. R = 2, High uncertainty.\n",
    "3. R = 7, Very High uncertainty."
   ]
  },
  {
   "cell_type": "code",
   "execution_count": 1,
   "metadata": {},
   "outputs": [],
   "source": [
    "# Setup\n",
    "import numpy as np\n",
    "import openravepy as orpy\n",
    "import toppra as ta\n",
    "import matplotlib.pyplot as plt\n",
    "import following_lib as fo\n",
    "\n",
    "# Setup logging for toppra\n",
    "import coloredlogs\n",
    "coloredlogs.install(level='DEBUG')\n",
    "np.set_printoptions(5)\n",
    "\n",
    "# Setup the robot, the geometric path and the torque bounds\n",
    "env = orpy.Environment()\n",
    "env.Load('/home/hung/git/robotic-CRI/rave/denso_vs060.dae')\n",
    "robot = env.GetRobots()[0]\n",
    "np.random.seed(11)\n",
    "waypoints = np.random.randn(5, 6) * 0.4\n",
    "path = ta.SplineInterpolator(np.linspace(0, 1, 5), waypoints)\n",
    "tau_max = np.r_[30., 50., 20., 20., 10., 10.]\n",
    "robot.SetDOFTorqueLimits(tau_max)\n",
    "tau_min = - tau_max"
   ]
  },
  {
   "cell_type": "markdown",
   "metadata": {},
   "source": [
    "# Prepare the coefficients\n",
    "The below cell prepares the coefficients of the constraints, all of which are encapsulated\n",
    "in the class `RobustPathConstraint`.\n",
    "\n",
    "Specifically, suppose there are N+1 stages: $$(s_0, ..., s_N)$$\n",
    "At stage i, there are m constraints. The j-th constraint is given by\n",
    "$$\n",
    " a_{ij} u + b_{ij} x + c_{ij} + w_i \\left\\|P_{ij} \\begin{bmatrix}u \\\\ x \\\\ 1 \\end{bmatrix}\\right\\| \\leq 0\n",
    "$$\n",
    "The `RobustPathConstraint` class accepts as its input a tensor $v$ such that\n",
    "$$\n",
    "v_{ij0} = a_{ij}, v_{ij1} = b_{ij}, v_{ij2} = c_{ij}\n",
    "$$\n",
    "the tensor $P$ and the vector $s$.\n",
    "\n",
    "The floats $w_i, i\\in [0, \\dots, N]$ are given during computations of the robust controllablet\n",
    "sets."
   ]
  },
  {
   "cell_type": "code",
   "execution_count": 11,
   "metadata": {},
   "outputs": [
    {
     "name": "stderr",
     "output_type": "stream",
     "text": [
      "2018-05-12 18:10:14 hung-asus toppra.constraints[19776] INFO Torque bounds for OpenRAVE robot generated.\n",
      "2018-05-12 18:10:14 hung-asus toppra.TOPP[19776] INFO \n",
      "Initialize Path Parameterization instance\n",
      "------------------------------\n",
      "\t N                  :      100\n",
      "\t No. of constraints :        1\n",
      "\t No. of slack var   :        0\n",
      "\t No. of can. ineq.  :       24\n",
      "\t No. of equalities  :        0\n",
      "\t No. of inequalities:        0\n",
      "\n",
      "2018-05-12 18:10:14 hung-asus toppra.TOPP[19776] DEBUG Set qpOASES print level to NONE\n"
     ]
    }
   ],
   "source": [
    "# Nominal case\n",
    "N = 100\n",
    "ss = np.linspace(0, 1, N + 1)\n",
    "cnst = ta.create_rave_torque_path_constraint(\n",
    "    path, np.linspace(0, 1, N + 1), robot)\n",
    "cnst_intp = ta.interpolate_constraint(cnst)\n",
    "pp = ta.qpOASESPPSolver([cnst_intp])\n",
    "pp.set_goal_interval([0, 1e-3])\n",
    "pp.solve_controllable_sets()\n",
    "Ks = pp.K\n",
    "# Robust Path Constraint\n",
    "vs = np.zeros((N + 1, 12, 3))\n",
    "Ps = np.zeros((N + 1, 12, 3, 3))\n",
    "vs[:, :, 0] = cnst.a\n",
    "vs[:, :, 1] = cnst.b\n",
    "vs[:, :, 2] = cnst.c\n",
    "Ps[:, :] = np.eye(3)\n",
    "\n",
    "robust_cnst = fo.RobustPathConstraint(vs, Ps, ss)"
   ]
  },
  {
   "cell_type": "markdown",
   "metadata": {},
   "source": [
    "# Compute the robust controllable sets\n",
    "\n",
    "The sets are computed for three different values of R: 0, 1 and 3."
   ]
  },
  {
   "cell_type": "code",
   "execution_count": 12,
   "metadata": {},
   "outputs": [],
   "source": [
    "Ks_low = np.ones((N + 1, 2))  # Robust controllable sets\n",
    "Ks_low[N] = [0, 1e-3]\n",
    "for i in range(N - 1, -1, -1):\n",
    "    Ks_low[i] = fo.robust_one_step(robust_cnst, i, Ks_low[i + 1], 1, 1, method='ECOS')\n",
    "\n",
    "Ks_high = np.ones((N + 1, 2))  # Robust controllable sets\n",
    "Ks_high[N] = [0, 1e-3]\n",
    "for i in range(N - 1, -1, -1):\n",
    "    Ks_high[i] = fo.robust_one_step(robust_cnst, i, Ks_high[i + 1],\n",
    "                                    3, 3, method='ECOS')\n",
    "    \n",
    "Ks_high2 = np.ones((N + 1, 2))  # Robust controllable sets\n",
    "Ks_high2[N] = [0, 1e-3]\n",
    "for i in range(N - 1, -1, -1):\n",
    "    Ks_high2[i] = fo.robust_one_step(robust_cnst, i, Ks_high2[i + 1],\n",
    "                                    7, 7, method='ECOS')"
   ]
  },
  {
   "cell_type": "code",
   "execution_count": 14,
   "metadata": {},
   "outputs": [
    {
     "data": {
      "image/png": "[encoded data removed]",
      "text/plain": [
       "<matplotlib.figure.Figure at 0x7f7ea8160d10>"
      ]
     },
     "metadata": {},
     "output_type": "display_data"
    }
   ],
   "source": [
    "# PLotting\n",
    "f, ax = plt.subplots(figsize=[6.2, 4])\n",
    "ax.plot(pp.K[:, 1], label='R=0 (Ideal)', color='C0')\n",
    "ax.plot(pp.K[:, 0], color='gray')\n",
    "ax.plot(Ks[:, 1], label='R=1 (Medium)', color='C2')\n",
    "ax.plot(Ks_high[:, 1], label='R=3 (High)', color='C1')\n",
    "ax.plot(Ks_high2[:, 1], label='R=10 (Very high)', color='C3')\n",
    "ax.legend()\n",
    "# plt.savefig('/home/hung/git/hung/Papers/2017-TOPP-following/figures/compare_robust_ctrl_sets.pdf')\n",
    "plt.show()"
   ]
  },
  {
   "cell_type": "markdown",
   "metadata": {},
   "source": [
    "Several things to observe:\n",
    "- The robust controllable sets corresponding to higher perturbations are strictly smaller;\n",
    "- Key differences are seen during deccelerating segments;\n",
    "- At very high level of uncertainty, the set of robust controllable states might be empty (see red lines).\n",
    "\n",
    "Some questions:\n",
    "- How to select a good value for R? Of course hand-tuning is a possible choice."
   ]
  },
  {
   "cell_type": "code",
   "execution_count": null,
   "metadata": {},
   "outputs": [],
   "source": []
  }
 ],
 "metadata": {
  "kernelspec": {
   "display_name": "Python 2",
   "language": "python",
   "name": "python2"
  },
  "language_info": {
   "codemirror_mode": {
    "name": "ipython",
    "version": 2
   },
   "file_extension": ".py",
   "mimetype": "text/x-python",
   "name": "python",
   "nbconvert_exporter": "python",
   "pygments_lexer": "ipython2",
   "version": "2.7.12"
  },
  "toc": {
   "nav_menu": {},
   "number_sections": true,
   "sideBar": true,
   "skip_h1_title": false,
   "title_cell": "Table of Contents",
   "title_sidebar": "Contents",
   "toc_cell": true,
   "toc_position": {},
   "toc_section_display": true,
   "toc_window_display": false
  }
 },
 "nbformat": 4,
 "nbformat_minor": 2
}
